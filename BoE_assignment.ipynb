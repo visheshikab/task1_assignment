{
 "cells": [
  {
   "cell_type": "code",
   "execution_count": 795,
   "id": "1760d479-1148-4ad9-9b1d-6e04ba23519e",
   "metadata": {},
   "outputs": [
    {
     "data": {
      "text/plain": [
       "'\\nDescription of the notebook:\\n\\n'"
      ]
     },
     "execution_count": 795,
     "metadata": {},
     "output_type": "execute_result"
    }
   ],
   "source": [
    "'''\n",
    "Description of the notebook:\n",
    "\n",
    "'''"
   ]
  },
  {
   "cell_type": "code",
   "execution_count": 796,
   "id": "740dfb13-fbea-403f-97fd-978ba08a2b04",
   "metadata": {},
   "outputs": [],
   "source": [
    "import pandas as pd\n",
    "import numpy as np\n",
    "from scipy import stats\n",
    "import matplotlib.pyplot as plt"
   ]
  },
  {
   "cell_type": "code",
   "execution_count": 797,
   "id": "ec213929-965f-4a4e-ac45-bc52728cfd72",
   "metadata": {},
   "outputs": [],
   "source": [
    "#Import data\n",
    "df_gen=pd.read_excel(r\"C:\\Users\\vishe\\Downloads\\(PRA)_(OFFG)_8350731_v_1_010242 - Analyst Data Science - Technical Assessment - Data.XLSX\", header=None)"
   ]
  },
  {
   "cell_type": "code",
   "execution_count": 798,
   "id": "9d3753bf-1b8e-4707-b91e-f51baea0e807",
   "metadata": {},
   "outputs": [],
   "source": [
    "# Combine the first two rows to form the column names\n",
    "columns = df_gen.iloc[0]+'_'+df_gen.iloc[1]\n",
    "df_gen.columns = columns\n",
    "\n",
    "# Drop the first two rows as they are now part of column names\n",
    "df_gen = df_gen.drop([0, 1])\n",
    "\n",
    "# Reset the index\n",
    "df_gen = df_gen.reset_index(drop=True)\n",
    "\n",
    "#Renmae first column\n",
    "df_gen = df_gen.rename(columns={df_gen.columns[0]: 'Firms'})\n"
   ]
  },
  {
   "cell_type": "code",
   "execution_count": 799,
   "id": "15f94b9b-a4a9-4533-9694-e3198bd55a77",
   "metadata": {},
   "outputs": [
    {
     "name": "stderr",
     "output_type": "stream",
     "text": [
      "<>:5: SyntaxWarning: invalid escape sequence '\\d'\n",
      "<>:8: SyntaxWarning: invalid escape sequence '\\d'\n",
      "<>:5: SyntaxWarning: invalid escape sequence '\\d'\n",
      "<>:8: SyntaxWarning: invalid escape sequence '\\d'\n",
      "C:\\Users\\vishe\\AppData\\Local\\Temp\\ipykernel_45420\\2924556304.py:5: SyntaxWarning: invalid escape sequence '\\d'\n",
      "  melted_df['Year'] = melted_df['Column_Year'].str.extract('(\\d{4})')\n",
      "C:\\Users\\vishe\\AppData\\Local\\Temp\\ipykernel_45420\\2924556304.py:8: SyntaxWarning: invalid escape sequence '\\d'\n",
      "  melted_df['Column'] = melted_df['Column_Year'].str.extract('([^\\d]+)')\n"
     ]
    }
   ],
   "source": [
    "# Melt the DataFrame\n",
    "melted_df = pd.melt(df_gen, id_vars=['Firms'], var_name='Column_Year')\n",
    "\n",
    "# Extract the year from the 'Column_Year' and create a new column for it\n",
    "melted_df['Year'] = melted_df['Column_Year'].str.extract('(\\d{4})')\n",
    "\n",
    "# Extract the column prefix (e.g., 'NWP (£m)', 'SCR (£m)')\n",
    "melted_df['Column'] = melted_df['Column_Year'].str.extract('([^\\d]+)')\n",
    "\n",
    "# Pivot the melted DataFrame to create separate columns for each prefix\n",
    "df_gen = melted_df.pivot_table(index=['Firms', 'Year'], columns='Column', values='value').reset_index()\n"
   ]
  },
  {
   "cell_type": "code",
   "execution_count": 800,
   "id": "8ac92f49-cb15-472f-b489-65a4dac04941",
   "metadata": {},
   "outputs": [],
   "source": [
    "df_uw=pd.read_excel(r\"C:\\Users\\vishe\\Downloads\\(PRA)_(OFFG)_8350731_v_1_010242 - Analyst Data Science - Technical Assessment - Data.XLSX\", sheet_name='Dataset 2 - Underwriting', header=None)\n",
    "\n",
    "# Combine the first two rows to form the column names\n",
    "columns = df_uw.iloc[0]+'_'+df_uw.iloc[1]\n",
    "df_uw.columns = columns\n",
    "\n",
    "# Drop the first two rows as they are now part of column names\n",
    "df_uw = df_uw.drop([0, 1])\n",
    "\n",
    "# Reset the index\n",
    "df_uw = df_uw.reset_index(drop=True)\n"
   ]
  },
  {
   "cell_type": "code",
   "execution_count": 801,
   "id": "34bd8e8d-16b9-47a4-8a8d-cdec1763efb2",
   "metadata": {},
   "outputs": [
    {
     "name": "stderr",
     "output_type": "stream",
     "text": [
      "<>:8: SyntaxWarning: invalid escape sequence '\\d'\n",
      "<>:11: SyntaxWarning: invalid escape sequence '\\d'\n",
      "<>:8: SyntaxWarning: invalid escape sequence '\\d'\n",
      "<>:11: SyntaxWarning: invalid escape sequence '\\d'\n",
      "C:\\Users\\vishe\\AppData\\Local\\Temp\\ipykernel_45420\\3916784841.py:8: SyntaxWarning: invalid escape sequence '\\d'\n",
      "  melted_df['Year'] = melted_df['Column_Year'].str.extract('(\\d{4})')\n",
      "C:\\Users\\vishe\\AppData\\Local\\Temp\\ipykernel_45420\\3916784841.py:11: SyntaxWarning: invalid escape sequence '\\d'\n",
      "  melted_df['Column'] = melted_df['Column_Year'].str.extract('([^\\d]+)')\n"
     ]
    }
   ],
   "source": [
    "# Rename the first column to 'Firms'\n",
    "df_uw = df_uw.rename(columns={df_uw.columns[0]: 'Firms'})\n",
    "\n",
    "# Melt the DataFrame\n",
    "melted_df = pd.melt(df_uw, id_vars=['Firms'], var_name='Column_Year')\n",
    "\n",
    "# Extract the year from the 'Column_Year' and create a new column for it\n",
    "melted_df['Year'] = melted_df['Column_Year'].str.extract('(\\d{4})')\n",
    "\n",
    "# Extract the column prefix (e.g., 'NWP (£m)', 'SCR (£m)')\n",
    "melted_df['Column'] = melted_df['Column_Year'].str.extract('([^\\d]+)')\n",
    "\n",
    "# Pivot the melted DataFrame to create separate columns for each prefix\n",
    "df_uw = melted_df.pivot_table(index=['Firms', 'Year'], columns='Column', values='value').reset_index()\n"
   ]
  },
  {
   "cell_type": "code",
   "execution_count": 802,
   "id": "348325e6-c143-4c47-8cde-98c14fe5eb9e",
   "metadata": {},
   "outputs": [
    {
     "data": {
      "text/plain": [
       "(1625, 19)"
      ]
     },
     "execution_count": 802,
     "metadata": {},
     "output_type": "execute_result"
    }
   ],
   "source": [
    "merged_df = pd.merge(df_gen, df_uw, on=['Firms', 'Year'], how='inner')\n",
    "merged_df.head()\n",
    "merged_df.shape"
   ]
  },
  {
   "cell_type": "code",
   "execution_count": 803,
   "id": "55491e11-da11-43f0-9c61-9d4823582e26",
   "metadata": {},
   "outputs": [],
   "source": [
    "merged_df.columns\n",
    "merged_df = merged_df.rename(columns=lambda x: x.strip().rstrip('_').strip())"
   ]
  },
  {
   "cell_type": "code",
   "execution_count": 804,
   "id": "b5b83665-d3a7-49b9-a05e-b24e24708849",
   "metadata": {},
   "outputs": [
    {
     "data": {
      "text/plain": [
       "(1625, 19)"
      ]
     },
     "execution_count": 804,
     "metadata": {},
     "output_type": "execute_result"
    }
   ],
   "source": [
    "# Convert all columns except 'firm' and 'year' to numerical values\n",
    "merged_df[merged_df.columns.difference(['Firms'])]=merged_df[merged_df.columns.difference(['Firms'])].apply(pd.to_numeric)\n",
    "merged_df.dtypes\n",
    "merged_df.shape"
   ]
  },
  {
   "cell_type": "code",
   "execution_count": 805,
   "id": "32e6c0c9-b522-4551-9542-4c584e74e342",
   "metadata": {},
   "outputs": [
    {
     "data": {
      "text/html": [
       "<div>\n",
       "<style scoped>\n",
       "    .dataframe tbody tr th:only-of-type {\n",
       "        vertical-align: middle;\n",
       "    }\n",
       "\n",
       "    .dataframe tbody tr th {\n",
       "        vertical-align: top;\n",
       "    }\n",
       "\n",
       "    .dataframe thead th {\n",
       "        text-align: right;\n",
       "    }\n",
       "</style>\n",
       "<table border=\"1\" class=\"dataframe\">\n",
       "  <thead>\n",
       "    <tr style=\"text-align: right;\">\n",
       "      <th>Column</th>\n",
       "      <th>Year</th>\n",
       "      <th>EoF for SCR (£m)</th>\n",
       "      <th>Excess of assets over liabilities (£m) [= equity]</th>\n",
       "      <th>GWP (£m)</th>\n",
       "      <th>NWP (£m)</th>\n",
       "      <th>SCR (£m)</th>\n",
       "      <th>SCR coverage ratio</th>\n",
       "      <th>Total assets (£m)</th>\n",
       "      <th>Total liabilities (£m)</th>\n",
       "      <th>Gross BEL (inc. TPs as whole, pre-TMTP) (£m)</th>\n",
       "      <th>Gross claims incurred (£m)</th>\n",
       "      <th>Gross combined ratio</th>\n",
       "      <th>Gross expense ratio</th>\n",
       "      <th>Net BEL (inc. TPs as a whole, pre-TMTP) (£m)</th>\n",
       "      <th>Net combined ratio</th>\n",
       "      <th>Net expense ratio</th>\n",
       "      <th>Pure gross claims ratio</th>\n",
       "      <th>Pure net claims ratio</th>\n",
       "    </tr>\n",
       "  </thead>\n",
       "  <tbody>\n",
       "    <tr>\n",
       "      <th>count</th>\n",
       "      <td>1625.000000</td>\n",
       "      <td>1625.000000</td>\n",
       "      <td>1625.000000</td>\n",
       "      <td>1625.000000</td>\n",
       "      <td>1625.000000</td>\n",
       "      <td>1625.000000</td>\n",
       "      <td>1.625000e+03</td>\n",
       "      <td>1625.000000</td>\n",
       "      <td>1625.000000</td>\n",
       "      <td>1625.000000</td>\n",
       "      <td>1625.000000</td>\n",
       "      <td>1.625000e+03</td>\n",
       "      <td>1625.000000</td>\n",
       "      <td>1625.000000</td>\n",
       "      <td>1625.000000</td>\n",
       "      <td>1.625000e+03</td>\n",
       "      <td>1625.000000</td>\n",
       "      <td>1625.000000</td>\n",
       "    </tr>\n",
       "    <tr>\n",
       "      <th>mean</th>\n",
       "      <td>2018.000000</td>\n",
       "      <td>504.096123</td>\n",
       "      <td>539.107196</td>\n",
       "      <td>936.694961</td>\n",
       "      <td>731.756135</td>\n",
       "      <td>346.635184</td>\n",
       "      <td>1.228704e+06</td>\n",
       "      <td>7244.856179</td>\n",
       "      <td>7080.304690</td>\n",
       "      <td>304.059010</td>\n",
       "      <td>141.658590</td>\n",
       "      <td>2.462693e+03</td>\n",
       "      <td>351.735068</td>\n",
       "      <td>190.665436</td>\n",
       "      <td>-11.063437</td>\n",
       "      <td>1.653949e+03</td>\n",
       "      <td>594.768338</td>\n",
       "      <td>490.690520</td>\n",
       "    </tr>\n",
       "    <tr>\n",
       "      <th>std</th>\n",
       "      <td>1.414649</td>\n",
       "      <td>2262.296981</td>\n",
       "      <td>2174.167392</td>\n",
       "      <td>4757.190907</td>\n",
       "      <td>3969.009525</td>\n",
       "      <td>1570.005997</td>\n",
       "      <td>3.383049e+07</td>\n",
       "      <td>33462.818642</td>\n",
       "      <td>33527.811705</td>\n",
       "      <td>1120.236417</td>\n",
       "      <td>481.249608</td>\n",
       "      <td>9.868916e+04</td>\n",
       "      <td>14272.329426</td>\n",
       "      <td>697.911607</td>\n",
       "      <td>2117.644387</td>\n",
       "      <td>6.676106e+04</td>\n",
       "      <td>24443.596779</td>\n",
       "      <td>20577.732970</td>\n",
       "    </tr>\n",
       "    <tr>\n",
       "      <th>min</th>\n",
       "      <td>2016.000000</td>\n",
       "      <td>-162.245016</td>\n",
       "      <td>-123.609578</td>\n",
       "      <td>-19.777480</td>\n",
       "      <td>-17754.100486</td>\n",
       "      <td>0.000000</td>\n",
       "      <td>-3.488211e+00</td>\n",
       "      <td>-207.356238</td>\n",
       "      <td>-1487.107764</td>\n",
       "      <td>-167.815824</td>\n",
       "      <td>-74.422893</td>\n",
       "      <td>-2.354862e+03</td>\n",
       "      <td>-16112.406623</td>\n",
       "      <td>-182.381851</td>\n",
       "      <td>-73450.271014</td>\n",
       "      <td>-7.038624e+03</td>\n",
       "      <td>-24817.785823</td>\n",
       "      <td>-33721.020240</td>\n",
       "    </tr>\n",
       "    <tr>\n",
       "      <th>25%</th>\n",
       "      <td>2017.000000</td>\n",
       "      <td>2.879599</td>\n",
       "      <td>3.515754</td>\n",
       "      <td>0.000000</td>\n",
       "      <td>0.000000</td>\n",
       "      <td>0.738866</td>\n",
       "      <td>2.914672e-01</td>\n",
       "      <td>6.543713</td>\n",
       "      <td>0.847367</td>\n",
       "      <td>0.000000</td>\n",
       "      <td>0.000000</td>\n",
       "      <td>0.000000e+00</td>\n",
       "      <td>0.000000</td>\n",
       "      <td>0.000000</td>\n",
       "      <td>0.000000</td>\n",
       "      <td>0.000000e+00</td>\n",
       "      <td>0.000000</td>\n",
       "      <td>0.000000</td>\n",
       "    </tr>\n",
       "    <tr>\n",
       "      <th>50%</th>\n",
       "      <td>2018.000000</td>\n",
       "      <td>25.548589</td>\n",
       "      <td>29.582864</td>\n",
       "      <td>8.686859</td>\n",
       "      <td>3.625627</td>\n",
       "      <td>11.637984</td>\n",
       "      <td>1.587490e+00</td>\n",
       "      <td>85.932872</td>\n",
       "      <td>45.545844</td>\n",
       "      <td>4.566094</td>\n",
       "      <td>1.459435</td>\n",
       "      <td>1.395327e-01</td>\n",
       "      <td>0.048912</td>\n",
       "      <td>1.565938</td>\n",
       "      <td>0.091701</td>\n",
       "      <td>3.236163e-02</td>\n",
       "      <td>0.060352</td>\n",
       "      <td>0.010179</td>\n",
       "    </tr>\n",
       "    <tr>\n",
       "      <th>75%</th>\n",
       "      <td>2019.000000</td>\n",
       "      <td>162.428978</td>\n",
       "      <td>166.413248</td>\n",
       "      <td>178.699850</td>\n",
       "      <td>90.225184</td>\n",
       "      <td>91.415724</td>\n",
       "      <td>3.061232e+00</td>\n",
       "      <td>926.199445</td>\n",
       "      <td>643.826070</td>\n",
       "      <td>146.538410</td>\n",
       "      <td>69.639397</td>\n",
       "      <td>1.000998e+00</td>\n",
       "      <td>0.355549</td>\n",
       "      <td>78.081918</td>\n",
       "      <td>1.015109</td>\n",
       "      <td>4.058003e-01</td>\n",
       "      <td>0.634058</td>\n",
       "      <td>0.563139</td>\n",
       "    </tr>\n",
       "    <tr>\n",
       "      <th>max</th>\n",
       "      <td>2020.000000</td>\n",
       "      <td>41636.299252</td>\n",
       "      <td>26705.042053</td>\n",
       "      <td>74078.635849</td>\n",
       "      <td>75526.673293</td>\n",
       "      <td>22788.359468</td>\n",
       "      <td>9.993029e+08</td>\n",
       "      <td>553549.903858</td>\n",
       "      <td>494498.525611</td>\n",
       "      <td>19292.066525</td>\n",
       "      <td>6844.014131</td>\n",
       "      <td>3.978266e+06</td>\n",
       "      <td>575064.786983</td>\n",
       "      <td>11351.609021</td>\n",
       "      <td>43182.186323</td>\n",
       "      <td>2.691212e+06</td>\n",
       "      <td>985011.303759</td>\n",
       "      <td>828809.371523</td>\n",
       "    </tr>\n",
       "  </tbody>\n",
       "</table>\n",
       "</div>"
      ],
      "text/plain": [
       "Column         Year  EoF for SCR (£m)  \\\n",
       "count   1625.000000       1625.000000   \n",
       "mean    2018.000000        504.096123   \n",
       "std        1.414649       2262.296981   \n",
       "min     2016.000000       -162.245016   \n",
       "25%     2017.000000          2.879599   \n",
       "50%     2018.000000         25.548589   \n",
       "75%     2019.000000        162.428978   \n",
       "max     2020.000000      41636.299252   \n",
       "\n",
       "Column  Excess of assets over liabilities (£m) [= equity]      GWP (£m)  \\\n",
       "count                                         1625.000000   1625.000000   \n",
       "mean                                           539.107196    936.694961   \n",
       "std                                           2174.167392   4757.190907   \n",
       "min                                           -123.609578    -19.777480   \n",
       "25%                                              3.515754      0.000000   \n",
       "50%                                             29.582864      8.686859   \n",
       "75%                                            166.413248    178.699850   \n",
       "max                                          26705.042053  74078.635849   \n",
       "\n",
       "Column      NWP (£m)      SCR (£m)  SCR coverage ratio  Total assets (£m)  \\\n",
       "count    1625.000000   1625.000000        1.625000e+03        1625.000000   \n",
       "mean      731.756135    346.635184        1.228704e+06        7244.856179   \n",
       "std      3969.009525   1570.005997        3.383049e+07       33462.818642   \n",
       "min    -17754.100486      0.000000       -3.488211e+00        -207.356238   \n",
       "25%         0.000000      0.738866        2.914672e-01           6.543713   \n",
       "50%         3.625627     11.637984        1.587490e+00          85.932872   \n",
       "75%        90.225184     91.415724        3.061232e+00         926.199445   \n",
       "max     75526.673293  22788.359468        9.993029e+08      553549.903858   \n",
       "\n",
       "Column  Total liabilities (£m)  Gross BEL (inc. TPs as whole, pre-TMTP) (£m)  \\\n",
       "count              1625.000000                                   1625.000000   \n",
       "mean               7080.304690                                    304.059010   \n",
       "std               33527.811705                                   1120.236417   \n",
       "min               -1487.107764                                   -167.815824   \n",
       "25%                   0.847367                                      0.000000   \n",
       "50%                  45.545844                                      4.566094   \n",
       "75%                 643.826070                                    146.538410   \n",
       "max              494498.525611                                  19292.066525   \n",
       "\n",
       "Column  Gross claims incurred (£m)  Gross combined ratio  Gross expense ratio  \\\n",
       "count                  1625.000000          1.625000e+03          1625.000000   \n",
       "mean                    141.658590          2.462693e+03           351.735068   \n",
       "std                     481.249608          9.868916e+04         14272.329426   \n",
       "min                     -74.422893         -2.354862e+03        -16112.406623   \n",
       "25%                       0.000000          0.000000e+00             0.000000   \n",
       "50%                       1.459435          1.395327e-01             0.048912   \n",
       "75%                      69.639397          1.000998e+00             0.355549   \n",
       "max                    6844.014131          3.978266e+06        575064.786983   \n",
       "\n",
       "Column  Net BEL (inc. TPs as a whole, pre-TMTP) (£m)  Net combined ratio  \\\n",
       "count                                    1625.000000         1625.000000   \n",
       "mean                                      190.665436          -11.063437   \n",
       "std                                       697.911607         2117.644387   \n",
       "min                                      -182.381851       -73450.271014   \n",
       "25%                                         0.000000            0.000000   \n",
       "50%                                         1.565938            0.091701   \n",
       "75%                                        78.081918            1.015109   \n",
       "max                                     11351.609021        43182.186323   \n",
       "\n",
       "Column  Net expense ratio  Pure gross claims ratio  Pure net claims ratio  \n",
       "count        1.625000e+03              1625.000000            1625.000000  \n",
       "mean         1.653949e+03               594.768338             490.690520  \n",
       "std          6.676106e+04             24443.596779           20577.732970  \n",
       "min         -7.038624e+03            -24817.785823          -33721.020240  \n",
       "25%          0.000000e+00                 0.000000               0.000000  \n",
       "50%          3.236163e-02                 0.060352               0.010179  \n",
       "75%          4.058003e-01                 0.634058               0.563139  \n",
       "max          2.691212e+06            985011.303759          828809.371523  "
      ]
     },
     "execution_count": 805,
     "metadata": {},
     "output_type": "execute_result"
    }
   ],
   "source": [
    "merged_df.describe()"
   ]
  },
  {
   "cell_type": "code",
   "execution_count": 806,
   "id": "ac6a59fd-d2ce-4d9d-ac21-e56bbda125da",
   "metadata": {},
   "outputs": [],
   "source": [
    "'''\n",
    "--------------------------------------------------------------------------------------------------------------\n",
    "CLEANING THE DATASET\n",
    "1. Converting the 0 values to missing\n",
    "2. Finding outliers using z-scores and converting them to missing\n",
    "3. From the summary statistics, it is evident that SCR coverage ratio contains very high values \n",
    "   (so we drop those greater than 95th percentile)\n",
    "4. Checking if some values are negative for metrics which are likely to positive such as SCR coverage ratio, \n",
    "   Gross claims incurred (£m), Total assets (£m), GWP (£m) and converting them to missing\n",
    "--------------------------------------------------------------------------------------------------------------\n",
    "'''\n",
    "\n",
    "# Iterate over columns except 'Firms' and 'Year'\n",
    "for column in merged_df.columns:\n",
    "    if column not in ['Firms', 'Year']:\n",
    "        merged_df[column].replace(0, np.nan, inplace=True)\n",
    "\n",
    "# Step 1: Select columns to strip outliers \n",
    "columns_to_strip = merged_df.columns.difference(['Firms', 'Year'])\n",
    "\n",
    "# Step 2: Calculate z-scores for selected numeric columns\n",
    "z_threshold = 3  # Define z-score threshold for identifying outliers\n",
    "numeric_columns = merged_df[columns_to_strip].select_dtypes(include=np.number)\n",
    "z_scores = np.abs(stats.zscore(numeric_columns))\n",
    "\n",
    "# Create a boolean mask to identify outliers\n",
    "outlier_mask = (z_scores > z_threshold)\n",
    "\n",
    "# Replace outlier values with NaN\n",
    "merged_df_stripped = merged_df.copy()\n",
    "merged_df_stripped[columns_to_strip] = merged_df[columns_to_strip].where(~outlier_mask, np.nan)\n"
   ]
  },
  {
   "cell_type": "code",
   "execution_count": 807,
   "id": "b241fc8b-8538-4366-a785-8687d79b5f70",
   "metadata": {},
   "outputs": [],
   "source": [
    "# Calculate the 95th percentile of the \"SCR coverage ratio\" column\n",
    "percentile_95 = merged_df_stripped['SCR coverage ratio'].quantile(0.95)\n",
    "\n",
    "# Filter out firms with \"SCR coverage ratio\" greater than the 95th percentile\n",
    "merged_df_stripped = merged_df_stripped[merged_df_stripped['SCR coverage ratio'] <= percentile_95]"
   ]
  },
  {
   "cell_type": "code",
   "execution_count": 808,
   "id": "dcb9e40a-fa45-403f-a052-357b6d49bb7c",
   "metadata": {},
   "outputs": [],
   "source": [
    "# Replace negative values with missing \n",
    "columns_to_process = ['SCR coverage ratio', 'Gross claims incurred (£m)', 'Total assets (£m)', 'GWP (£m)']\n",
    "\n",
    "# Iterate over specified columns\n",
    "for column in columns_to_process:\n",
    "    merged_df_stripped.loc[merged_df_stripped[column] < 0, column] = np.nan\n"
   ]
  },
  {
   "cell_type": "code",
   "execution_count": 809,
   "id": "46243196-7fb9-4c52-a1a7-3f8bdf47fb68",
   "metadata": {},
   "outputs": [],
   "source": [
    "# Save as Excel file (replace path and filename if needed)\n",
    "merged_df_stripped.to_excel(r'C:\\Users\\vishe\\Downloads\\PRA.xlsx', index=False)"
   ]
  },
  {
   "cell_type": "code",
   "execution_count": 810,
   "id": "2cdb9fc9-0d84-4d8f-8370-5e6c0cbc6ea0",
   "metadata": {
    "scrolled": true
   },
   "outputs": [
    {
     "name": "stdout",
     "output_type": "stream",
     "text": [
      "Column     Firms      NWP (£m)  Total assets (£m)     NWP+Assets\n",
      "624     Firm 210  60699.953265      160518.698476  221218.651741\n",
      "9        Firm 10    221.986516      195835.579311  196057.565827\n",
      "554     Firm 199  13133.461750      155761.530481  168894.992232\n",
      "1269     Firm 34   6105.500028      160124.458041  166229.958069\n",
      "294     Firm 151   5554.254802      124326.020117  129880.274919\n",
      "1409      Firm 6   5969.707516      107547.787494  113517.495010\n",
      "1484     Firm 73   4073.346848      107522.896976  111596.243823\n",
      "39      Firm 105   2612.553473      105212.731922  107825.285395\n",
      "824     Firm 247    191.590179      100085.096026  100276.686205\n",
      "894      Firm 26  16395.671694       83195.533245   99591.204939\n"
     ]
    },
    {
     "name": "stderr",
     "output_type": "stream",
     "text": [
      "C:\\Users\\vishe\\AppData\\Local\\Temp\\ipykernel_45420\\1973095748.py:15: SettingWithCopyWarning: \n",
      "A value is trying to be set on a copy of a slice from a DataFrame.\n",
      "Try using .loc[row_indexer,col_indexer] = value instead\n",
      "\n",
      "See the caveats in the documentation: https://pandas.pydata.org/pandas-docs/stable/user_guide/indexing.html#returning-a-view-versus-a-copy\n",
      "  merged_df_2020['NWP+Assets'] = merged_df_2020['NWP (£m)'] + merged_df_2020['Total assets (£m)']\n"
     ]
    }
   ],
   "source": [
    "'''\n",
    "Indicators for firm size: Net Written Premium (NWP) and Total assets\n",
    "\n",
    "Rationale: Since the characteristics of the firms are unknown, combining both metrics could be a helpful indicator, \n",
    "however, it is important to note that depending on the industry, one of the metrics may be more important.\n",
    "\n",
    "The latest year 2020 is considered the latest firm size could be the most important, however, to avoid focusing on a one-off change, \n",
    "historic data could be combined as well \n",
    "'''\n",
    "\n",
    "# Filter the DataFrame for Year == 2020\n",
    "merged_df_2020 = merged_df_stripped[merged_df_stripped['Year'] == 2020]\n",
    "\n",
    "# Add a new column 'NWP+Assets' by summing 'NWP (£m)' and 'Total assets (£m)'\n",
    "merged_df_2020['NWP+Assets'] = merged_df_2020['NWP (£m)'] + merged_df_2020['Total assets (£m)']\n",
    "\n",
    "# Sort the filtered DataFrame by 'NWP+Assets' in descending order\n",
    "sorted_df_2020 = merged_df_2020.sort_values(by='NWP+Assets', ascending=False)\n",
    "\n",
    "# Select the top 10 firms with the highest NWP+Assets\n",
    "top_10_firms_2020 = sorted_df_2020.head(10)\n",
    "\n",
    "# Print the selected columns for the top 10 firms\n",
    "print(top_10_firms_2020[['Firms', 'NWP (£m)', 'Total assets (£m)', 'NWP+Assets']])\n",
    "\n"
   ]
  },
  {
   "cell_type": "code",
   "execution_count": 811,
   "id": "6b88472d-b189-4e1a-9d99-cf52dd6fa670",
   "metadata": {},
   "outputs": [
    {
     "data": {
      "image/png": "[encoded data removed]",
      "text/plain": [
       "<Figure size 1000x600 with 1 Axes>"
      ]
     },
     "metadata": {},
     "output_type": "display_data"
    }
   ],
   "source": [
    "# Set up data for plotting\n",
    "firms = top_10_firms_2020['Firms']\n",
    "nwp = top_10_firms_2020['NWP (£m)']\n",
    "assets = top_10_firms_2020['Total assets (£m)']\n",
    "\n",
    "# Plot the stacked bar chart\n",
    "plt.figure(figsize=(10, 6))\n",
    "plt.bar(firms, nwp, label='NWP (£m)')\n",
    "plt.bar(firms, assets, bottom=nwp, label='Total assets (£m)')\n",
    "plt.xlabel('Firms')\n",
    "plt.ylabel('NWP+Assets')\n",
    "plt.title('Top 10 Firms by NWP+Assets in 2020')\n",
    "plt.xticks(rotation=90)\n",
    "plt.legend()\n",
    "plt.tight_layout()\n",
    "plt.show()"
   ]
  },
  {
   "cell_type": "code",
   "execution_count": 815,
   "id": "0924af95-3028-4472-aa39-5054d36fb034",
   "metadata": {},
   "outputs": [
    {
     "data": {
      "image/png": "[encoded data removed]",
      "text/plain": [
       "<Figure size 1000x600 with 1 Axes>"
      ]
     },
     "metadata": {},
     "output_type": "display_data"
    }
   ],
   "source": [
    "# Sort the DataFrame by NWP in descending order\n",
    "sorted_df = merged_df_2020.sort_values(by='NWP (£m)', ascending=False)\n",
    "\n",
    "# Extract the top q0 firms\n",
    "top_q0_firms = sorted_df.head(10)\n",
    "\n",
    "# Create a bar chart\n",
    "plt.figure(figsize=(10, 6))\n",
    "plt.bar(top_q0_firms['Firms'], top_q0_firms['NWP (£m)'], color='skyblue')\n",
    "plt.xlabel('Firms')\n",
    "plt.ylabel('Net Worth Profits (£m)')\n",
    "plt.title('Top Firms by Net Worth Profits')\n",
    "plt.xticks(rotation=90)  # Rotate x-axis labels for better readability if needed\n",
    "plt.tight_layout()\n",
    "plt.show()"
   ]
  },
  {
   "cell_type": "code",
   "execution_count": null,
   "id": "82665379-5bf7-4075-853e-5eb576d0d856",
   "metadata": {},
   "outputs": [],
   "source": [
    "#Indicators for changing business profile: SCR coverage ratio, Net combined ratio, Gross claims incurred\n",
    "\n",
    "# Group the DataFrame by 'Firms'\n",
    "grouped_df = merged_df_stripped.groupby('Firms')\n",
    "\n",
    "# Calculate the standard deviation for each metric within each group, ignoring zero values\n",
    "metrics_variation = grouped_df.agg({'SCR coverage ratio': std_without_zeros,\n",
    "                                    'Net combined ratio': std_without_zeros,\n",
    "                                    'Gross claims incurred (£m)': std_without_zeros})\n",
    "\n",
    "# Get the top 5 firms with the highest variation for each metric\n",
    "top_5_SCR_coverage = metrics_variation['SCR coverage ratio'].nlargest(5).index.tolist()\n",
    "top_5_Net_combined = metrics_variation['Net combined ratio'].nlargest(5).index.tolist()\n",
    "top_5_Gross_claims = metrics_variation['Gross claims incurred (£m)'].nlargest(5).index.tolist()\n",
    "\n",
    "# Print the top 5 firms for each metric\n",
    "print(\"Top 5 firms with the highest variation in SCR coverage ratio:\")\n",
    "print(top_5_SCR_coverage)\n",
    "\n",
    "print(\"\\nTop 5 firms with the highest variation in Net combined ratio:\")\n",
    "print(top_5_Net_combined)\n",
    "\n",
    "print(\"\\nTop 5 firms with the highest variation in Gross claims incurred (£m):\")\n",
    "print(top_5_Gross_claims)\n"
   ]
  },
  {
   "cell_type": "code",
   "execution_count": null,
   "id": "d92625a3-a6ef-475a-a1c1-fab1d5499d11",
   "metadata": {},
   "outputs": [],
   "source": [
    "'''\n",
    "#Note: While the above list is indicative of a changing business profile, a closer inspection of the year-on-year data is required to understand if \n",
    "the observed variation is due to expansion/industry-wise trends or irregularity. To do this, for all the short-listed firms, we should analyze a time-series chart\n",
    "\n",
    "The following is an example of how one could do this:\n",
    "'''\n",
    "\n",
    "# Define a function to plot time series for top 5 firms\n",
    "def plot_time_series(metric, top_firms):\n",
    "    plt.figure(figsize=(10, 6))\n",
    "    for firm in top_firms:\n",
    "        # Filter DataFrame for the selected firm\n",
    "        firm_data = merged_df_stripped[merged_df_stripped['Firms'] == firm]\n",
    "        # Plot time series for the selected metric\n",
    "        plt.plot(firm_data['Year'], firm_data[metric], label=firm)\n",
    "    plt.xlabel('Year')\n",
    "    plt.ylabel(metric)\n",
    "    plt.title(f'Top 5 firms with highest variation in {metric}')\n",
    "    plt.legend()\n",
    "    plt.grid(True)\n",
    "    plt.xticks(range(2016, 2021))  # Set x-axis ticks to display only years 2016 to 2020\n",
    "    plt.show()\n",
    "\n",
    "# Plot time series for SCR coverage ratio\n",
    "plot_time_series('SCR coverage ratio', top_5_SCR_coverage)\n",
    "\n",
    "# Plot time series for Net combined ratio\n",
    "plot_time_series('Net combined ratio', top_5_Net_combined)\n",
    "\n",
    "# Plot time series for Gross claims incurred\n",
    "plot_time_series('Gross claims incurred (£m)', top_5_Gross_claims)\n"
   ]
  },
  {
   "cell_type": "code",
   "execution_count": null,
   "id": "d7b1bf8d-758a-44dc-8656-0dedb0b6f68b",
   "metadata": {},
   "outputs": [],
   "source": [
    "merged_df_stripped.columns"
   ]
  },
  {
   "cell_type": "code",
   "execution_count": 818,
   "id": "f993d343-8ce1-4bf9-8656-eb205783fb84",
   "metadata": {},
   "outputs": [
    {
     "name": "stdout",
     "output_type": "stream",
     "text": [
      "            Firms      NWP (£m)  Deviation from Average (£m)\n",
      "624      Firm 210  60699.953265                 59350.842740\n",
      "1299       Firm 4  49204.465136                 47855.354611\n",
      "894       Firm 26  16395.671694                 15046.561168\n",
      "1184     Firm 311  14566.280927                 13217.170402\n",
      "554      Firm 199  13133.461750                 11784.351225\n",
      "Average   Average   1349.110525                     0.000000\n"
     ]
    },
    {
     "name": "stderr",
     "output_type": "stream",
     "text": [
      "C:\\Users\\vishe\\AppData\\Local\\Temp\\ipykernel_45420\\3177272283.py:5: SettingWithCopyWarning: \n",
      "A value is trying to be set on a copy of a slice from a DataFrame.\n",
      "Try using .loc[row_indexer,col_indexer] = value instead\n",
      "\n",
      "See the caveats in the documentation: https://pandas.pydata.org/pandas-docs/stable/user_guide/indexing.html#returning-a-view-versus-a-copy\n",
      "  merged_df_2020['Deviation'] = merged_df_2020['NWP (£m)'] - average_nwp\n"
     ]
    }
   ],
   "source": [
    "# Calculate the average NWP\n",
    "average_nwp = merged_df_2020['NWP (£m)'].mean()\n",
    "\n",
    "# Calculate the deviation from the average for each firm\n",
    "merged_df_2020['Deviation'] = merged_df_2020['NWP (£m)'] - average_nwp\n",
    "\n",
    "# Sort the DataFrame by deviation in descending order\n",
    "sorted_df = merged_df_2020.sort_values(by='Deviation', ascending=False)\n",
    "\n",
    "# Extract the top 5 firms with significant deviation\n",
    "top_5_deviation_firms = sorted_df.head(5)\n",
    "\n",
    "# Create a comparison table\n",
    "comparison_table = pd.DataFrame({\n",
    "    'Firms': top_5_deviation_firms['Firms'],\n",
    "    'NWP (£m)': top_5_deviation_firms['NWP (£m)'],\n",
    "    'Deviation from Average (£m)': top_5_deviation_firms['Deviation']\n",
    "})\n",
    "\n",
    "# Add average NWP to the comparison table\n",
    "comparison_table.loc['Average'] = ['Average', average_nwp, 0]\n",
    "\n",
    "print(comparison_table)"
   ]
  },
  {
   "cell_type": "code",
   "execution_count": 821,
   "id": "ce99726f-0c14-40a8-be9f-4da7a2d6a68e",
   "metadata": {},
   "outputs": [
    {
     "name": "stdout",
     "output_type": "stream",
     "text": [
      "             Firm  Net Combined Ratio  NCR Deviation from Average\n",
      "719      Firm 228         1642.927280                 1601.657816\n",
      "1029     Firm 284         1630.065399                 1588.795936\n",
      "374      Firm 166         1222.879483                 1181.610019\n",
      "1479      Firm 72           15.857819                  -25.411645\n",
      "439      Firm 178           11.444875                  -29.824589\n",
      "Average   Average           41.269464                    0.000000\n"
     ]
    },
    {
     "name": "stderr",
     "output_type": "stream",
     "text": [
      "C:\\Users\\vishe\\AppData\\Local\\Temp\\ipykernel_45420\\1888401609.py:5: SettingWithCopyWarning: \n",
      "A value is trying to be set on a copy of a slice from a DataFrame.\n",
      "Try using .loc[row_indexer,col_indexer] = value instead\n",
      "\n",
      "See the caveats in the documentation: https://pandas.pydata.org/pandas-docs/stable/user_guide/indexing.html#returning-a-view-versus-a-copy\n",
      "  merged_df_2020['NCR Deviation'] = merged_df_2020['Net combined ratio'] - average_ncr\n"
     ]
    }
   ],
   "source": [
    "# Calculate the average Net Combined Ratio\n",
    "average_ncr = merged_df_2020['Net combined ratio'].mean()\n",
    "\n",
    "# Calculate the deviation from the average for each firm\n",
    "merged_df_2020['NCR Deviation'] = merged_df_2020['Net combined ratio'] - average_ncr\n",
    "\n",
    "# Sort the DataFrame by deviation in descending order\n",
    "sorted_df_ncr = merged_df_2020.sort_values(by='NCR Deviation', ascending=False)\n",
    "\n",
    "# Extract the top 5 firms with significant deviation\n",
    "top_5_deviation_firms_ncr = sorted_df_ncr.head(5)\n",
    "\n",
    "# Create a comparison table\n",
    "comparison_table_ncr = pd.DataFrame({\n",
    "    'Firm': top_5_deviation_firms_ncr['Firms'],\n",
    "    'Net Combined Ratio': top_5_deviation_firms_ncr['Net combined ratio'],\n",
    "    'NCR Deviation from Average': top_5_deviation_firms_ncr['NCR Deviation']\n",
    "})\n",
    "\n",
    "# Add average Net Combined Ratio to the comparison table\n",
    "comparison_table_ncr.loc['Average'] = ['Average', average_ncr, 0]\n",
    "\n",
    "print(comparison_table_ncr)"
   ]
  },
  {
   "cell_type": "code",
   "execution_count": 825,
   "id": "fb310172-a6fe-4096-9d94-b818cc234743",
   "metadata": {},
   "outputs": [
    {
     "data": {
      "image/png": "[encoded data removed]",
      "text/plain": [
       "<Figure size 1000x600 with 1 Axes>"
      ]
     },
     "metadata": {},
     "output_type": "display_data"
    }
   ],
   "source": [
    "sorted_df = merged_df_2020.sort_index()\n",
    "\n",
    "# Create a line graph with no specific x-axis labels\n",
    "plt.figure(figsize=(10, 6))\n",
    "plt.plot(np.arange(len(sorted_df)), sorted_df['NWP (£m)'], color='skyblue')\n",
    "plt.xlabel('All firms')\n",
    "plt.ylabel('Net Worth Profits (£m)')\n",
    "plt.title('Net Worth Profits for All Firms')\n",
    "plt.xticks([])  # Remove x-axis ticks\n",
    "plt.grid(True)\n",
    "plt.show()"
   ]
  },
  {
   "cell_type": "code",
   "execution_count": 827,
   "id": "d17f5852-52b6-44ac-a02d-f93c0b381f2c",
   "metadata": {},
   "outputs": [
    {
     "data": {
      "image/png": "[encoded data removed]",
      "text/plain": [
       "<Figure size 1000x600 with 1 Axes>"
      ]
     },
     "metadata": {},
     "output_type": "display_data"
    }
   ],
   "source": [
    "sorted_df = merged_df_2020.sort_index()\n",
    "\n",
    "# Create a line graph with no specific x-axis labels\n",
    "plt.figure(figsize=(10, 6))\n",
    "plt.plot(np.arange(len(sorted_df)), sorted_df['Net combined ratio'], color='skyblue')\n",
    "plt.xlabel('All firms')\n",
    "plt.ylabel('Net combined ratio')\n",
    "plt.title('Net Combined Ratio for All Firms')\n",
    "plt.xticks([])  # Remove x-axis ticks\n",
    "plt.grid(True)\n",
    "plt.show()"
   ]
  },
  {
   "cell_type": "code",
   "execution_count": null,
   "id": "5bb8cdc9-f1a2-43c5-ac61-993881c8ae3e",
   "metadata": {},
   "outputs": [],
   "source": [
    "#Outlier detection ML example for year 2020\n",
    "\n",
    "from sklearn.ensemble import IsolationForest\n",
    "\n",
    "# Drop rows with missing values from merged_df_2020\n",
    "merged_df_2020_cleaned = merged_df_2020.dropna()\n",
    "\n",
    "# Specify the columns to check for outliers\n",
    "columns_to_check = ['NWP (£m)', 'SCR coverage ratio', 'Gross claims incurred (£m)', 'Net combined ratio']\n",
    "\n",
    "# Extract the data for the specified columns from merged_df_2020_cleaned\n",
    "data = merged_df_2020_cleaned[columns_to_check].values\n",
    "\n",
    "# Create an instance of the Isolation Forest model\n",
    "isolation_forest = IsolationForest(contamination='auto', random_state=28)\n",
    "\n",
    "# Fit the Isolation Forest model to the data\n",
    "isolation_forest.fit(data)\n",
    "\n",
    "# Predict outliers in the data\n",
    "outlier_preds = isolation_forest.predict(data)\n",
    "\n",
    "# Identify the indices of outliers\n",
    "outlier_indices = np.where(outlier_preds == -1)[0]\n",
    "\n",
    "# Get the details of outliers\n",
    "outliers = merged_df_2020_cleaned.iloc[outlier_indices]\n",
    "\n",
    "# Print the outliers\n",
    "print(\"Outliers detected using Isolation Forest:\")\n",
    "print(outliers['Firms'])\n",
    "\n"
   ]
  },
  {
   "cell_type": "code",
   "execution_count": null,
   "id": "735a2ddf-1a27-4471-ba11-09352a9f9055",
   "metadata": {},
   "outputs": [],
   "source": []
  }
 ],
 "metadata": {
  "kernelspec": {
   "display_name": "Python 3 (ipykernel)",
   "language": "python",
   "name": "python3"
  },
  "language_info": {
   "codemirror_mode": {
    "name": "ipython",
    "version": 3
   },
   "file_extension": ".py",
   "mimetype": "text/x-python",
   "name": "python",
   "nbconvert_exporter": "python",
   "pygments_lexer": "ipython3",
   "version": "3.12.1"
  }
 },
 "nbformat": 4,
 "nbformat_minor": 5
}
